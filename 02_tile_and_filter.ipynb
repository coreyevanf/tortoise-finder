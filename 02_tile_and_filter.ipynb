{
 "cells": [
  {
   "cell_type": "markdown",
   "id": "ffa5070c",
   "metadata": {},
   "source": [
    "\n",
    "# 02 — Tile & Filter\n",
    "\n",
    "**Goal:** Tile large aerial images into model-friendly crops (e.g., 640×640) and build a tiles manifest.\n",
    "- Discard overly uniform tiles to save compute (optional).\n",
    "- Tiles inherit the image-level label (presence/absence) for MIL training.\n"
   ]
  },
  {
   "cell_type": "code",
   "execution_count": null,
   "id": "473b988d",
   "metadata": {},
   "outputs": [],
   "source": [
    "\n",
    "%pip -q install numpy pandas pyarrow pillow tqdm\n"
   ]
  },
  {
   "cell_type": "code",
   "execution_count": null,
   "id": "8a43a9a0",
   "metadata": {},
   "outputs": [],
   "source": [
    "\n",
    "import os, numpy as np, pandas as pd\n",
    "from pathlib import Path\n",
    "from PIL import Image\n",
    "from tqdm import tqdm\n",
    "\n",
    "# ====== USER CONFIG ======\n",
    "BASE = Path('/content')  # change if needed\n",
    "MANIFEST_DIR = BASE/'data/manifests'\n",
    "IM_TILE_DIR = BASE/'data/tiles'\n",
    "IM_TILE_DIR.mkdir(parents=True, exist_ok=True)\n",
    "\n",
    "TILE = 640\n",
    "STRIDE = 320               # 50% overlap\n",
    "UNIFORM_THRESH = 0.80      # drop tile if one color occupies >80% pixels (set None to disable)\n",
    "SAVE_JPEG_QUALITY = 92\n"
   ]
  },
  {
   "cell_type": "code",
   "execution_count": null,
   "id": "8c1de62b",
   "metadata": {},
   "outputs": [],
   "source": [
    "\n",
    "def tile_image(img_path: Path, tile_size:int=TILE, stride:int=STRIDE):\n",
    "    im = Image.open(img_path).convert('RGB')\n",
    "    W, H = im.size\n",
    "    tiles = []\n",
    "    for y in range(0, max(1, H - tile_size + 1), stride):\n",
    "        for x in range(0, max(1, W - tile_size + 1), stride):\n",
    "            box = (x, y, x+tile_size, y+tile_size)\n",
    "            if box[2] <= W and box[3] <= H:\n",
    "                tiles.append((x,y,im.crop(box)))\n",
    "    return tiles, im.size\n",
    "\n",
    "def too_uniform(pil_img: Image.Image, thresh=UNIFORM_THRESH):\n",
    "    if thresh is None: return False\n",
    "    arr = np.asarray(pil_img)\n",
    "    # compute per-channel hist; rough uniform check by unique colors ratio\n",
    "    uniq = np.unique(arr.reshape(-1, arr.shape[-1]), axis=0)\n",
    "    ratio = uniq.shape[0] / (arr.shape[0]*arr.shape[1])\n",
    "    return ratio < (1.0 - thresh) * 0.01  # heuristic; small unique-pixel ratio implies uniform\n"
   ]
  },
  {
   "cell_type": "code",
   "execution_count": null,
   "id": "3390abee",
   "metadata": {},
   "outputs": [],
   "source": [
    "\n",
    "import pandas as pd\n",
    "\n",
    "train_df = pd.read_parquet(MANIFEST_DIR/'manifest_train.parquet')\n",
    "val_df   = pd.read_parquet(MANIFEST_DIR/'manifest_val.parquet')\n",
    "test_df  = pd.read_parquet(MANIFEST_DIR/'manifest_test.parquet')\n",
    "\n",
    "def process_split(name, df):\n",
    "    rows = []\n",
    "    out_dir = IM_TILE_DIR/name\n",
    "    out_dir.mkdir(parents=True, exist_ok=True)\n",
    "    for _, r in tqdm(df.iterrows(), total=len(df), desc=f\"tiling {name}\"):\n",
    "        img_path = Path(r['path'])\n",
    "        label = int(r['label'])\n",
    "        image_id = r['image_id']\n",
    "        tiles, (W,H) = tile_image(img_path)\n",
    "        for (x,y,tile) in tiles:\n",
    "            if not too_uniform(tile):\n",
    "                tile_id = f\"{image_id}_{x}_{y}\"\n",
    "                out_path = out_dir/f\"{tile_id}.jpg\"\n",
    "                tile.save(out_path, quality=SAVE_JPEG_QUALITY)\n",
    "                rows.append({\n",
    "                    'image_id': image_id,\n",
    "                    'tile_id': tile_id,\n",
    "                    'tile_path': str(out_path),\n",
    "                    'label': label,\n",
    "                    'x': x, 'y': y, 'W': W, 'H': H,\n",
    "                })\n",
    "    tiles_df = pd.DataFrame(rows)\n",
    "    tiles_df.to_parquet(IM_TILE_DIR/f'tiles_{name}.parquet', index=False)\n",
    "    print(name, tiles_df.shape, tiles_df['label'].value_counts().to_dict())\n",
    "    return tiles_df\n",
    "\n",
    "tiles_train = process_split('train', train_df)\n",
    "tiles_val   = process_split('val',   val_df)\n",
    "tiles_test  = process_split('test',  test_df)\n"
   ]
  }
 ],
 "metadata": {},
 "nbformat": 4,
 "nbformat_minor": 5
}
