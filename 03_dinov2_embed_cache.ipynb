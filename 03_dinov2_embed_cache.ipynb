{
 "cells": [
  {
   "cell_type": "markdown",
   "id": "1d40eb1b",
   "metadata": {},
   "source": [
    "\n",
    "# 03 — DINOv2 Embedding Cache\n",
    "\n",
    "**Goal:** Compute DINOv2 features for each **tile** and save to Parquet shards.\n",
    "- We freeze DINOv2 and only train a small MIL head later.\n"
   ]
  },
  {
   "cell_type": "code",
   "execution_count": null,
   "id": "3c4d8eb9",
   "metadata": {},
   "outputs": [],
   "source": [
    "\n",
    "%pip -q install --extra-index-url https://download.pytorch.org/whl/cu121   torch==2.4.0 torchvision==0.19.0 torchaudio==2.4.0\n",
    "%pip -q install timm==1.0.9 numpy pandas pyarrow pillow tqdm\n"
   ]
  },
  {
   "cell_type": "code",
   "execution_count": null,
   "id": "64fd67e5",
   "metadata": {},
   "outputs": [],
   "source": [
    "\n",
    "import os, math, numpy as np, pandas as pd, torch, timm\n",
    "from pathlib import Path\n",
    "from PIL import Image\n",
    "from torchvision import transforms\n",
    "from tqdm import tqdm\n",
    "\n",
    "BASE = Path('/content')  # change if needed\n",
    "IM_TILE_DIR = BASE/'data/tiles'\n",
    "CACHE_DIR   = BASE/'cache/embeddings'\n",
    "CACHE_DIR.mkdir(parents=True, exist_ok=True)\n",
    "\n",
    "ENC_NAME = \"vit_small_patch14_dinov2.lvd142m\"\n",
    "device = \"cuda\" if torch.cuda.is_available() else \"cpu\"\n",
    "\n",
    "encoder = timm.create_model(ENC_NAME, pretrained=True, num_classes=0, global_pool=\"avg\")\n",
    "for p in encoder.parameters(): p.requires_grad = False\n",
    "encoder.eval().to(device)\n",
    "FEAT_DIM = encoder.num_features\n",
    "print(\"Encoder:\", ENC_NAME, \"Feat dim:\", FEAT_DIM, \"Device:\", device)\n",
    "\n",
    "preproc = transforms.Compose([\n",
    "    transforms.Resize(256, interpolation=transforms.InterpolationMode.BICUBIC),\n",
    "    transforms.CenterCrop(224),\n",
    "    transforms.ToTensor(),\n",
    "    transforms.Normalize((0.485,0.456,0.406),(0.229,0.224,0.225)),\n",
    "])\n"
   ]
  },
  {
   "cell_type": "code",
   "execution_count": null,
   "id": "d1a90495",
   "metadata": {},
   "outputs": [],
   "source": [
    "\n",
    "def embed_paths(paths, bs=128):\n",
    "    feats = []\n",
    "    with torch.no_grad():\n",
    "        for i in range(0, len(paths), bs):\n",
    "            batch = paths[i:i+bs]\n",
    "            imgs = [preproc(Image.open(p).convert('RGB')) for p in batch]\n",
    "            x = torch.stack(imgs).to(device)\n",
    "            f = encoder(x)\n",
    "            feats.append(f.detach().cpu().numpy())\n",
    "    return np.concatenate(feats, axis=0) if feats else np.zeros((0, FEAT_DIM), dtype=np.float32)\n"
   ]
  },
  {
   "cell_type": "code",
   "execution_count": null,
   "id": "6c152b36",
   "metadata": {},
   "outputs": [],
   "source": [
    "\n",
    "import pyarrow as pa, pyarrow.parquet as pq\n",
    "\n",
    "def process_split(name):\n",
    "    tiles_df = pd.read_parquet(IM_TILE_DIR/f'tiles_{name}.parquet')\n",
    "    # shard by chunks of N tiles to be resume-friendly\n",
    "    N = 5000\n",
    "    for start in tqdm(range(0, len(tiles_df), N), desc=f\"embed {name}\"):\n",
    "        end = min(len(tiles_df), start+N)\n",
    "        shard_path = CACHE_DIR/f'emb_{name}_{start:06d}_{end:06d}.parquet'\n",
    "        if shard_path.exists():\n",
    "            continue  # resume\n",
    "        batch = tiles_df.iloc[start:end].copy()\n",
    "        feats = embed_paths(batch['tile_path'].tolist(), bs=128)\n",
    "        # build table\n",
    "        import numpy as np\n",
    "        emb_cols = {f\"emb_{i}\": feats[:,i] for i in range(feats.shape[1])}\n",
    "        shard = pd.concat([batch[['image_id','tile_id','tile_path','label']].reset_index(drop=True),\n",
    "                           pd.DataFrame(emb_cols)], axis=1)\n",
    "        table = pa.Table.from_pandas(shard)\n",
    "        pq.write_table(table, shard_path)\n",
    "    print(\"Done\", name)\n",
    "\n",
    "for split in ['train','val','test']:\n",
    "    process_split(split)\n"
   ]
  }
 ],
 "metadata": {},
 "nbformat": 4,
 "nbformat_minor": 5
}
