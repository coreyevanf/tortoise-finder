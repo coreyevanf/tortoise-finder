{
 "cells": [
  {
   "cell_type": "markdown",
   "id": "7a4ddce7",
   "metadata": {},
   "source": [
    "\n",
    "# 01 — Data Intake (Presence/Absence Setup)\n",
    "\n",
    "**Goal:** Point to two image folders and build a manifest for presence/absence learning.\n",
    "\n",
    "- `DATA_POS_DIR`: images **with** tortoises\n",
    "- `DATA_NEG_DIR`: images **without** tortoises\n",
    "- We will write a CSV/Parquet manifest containing `image_id`, `path`, and `label` (1/0).\n",
    "- Optional: mount Google Drive for persistence.\n"
   ]
  },
  {
   "cell_type": "code",
   "execution_count": null,
   "id": "919a31ac",
   "metadata": {},
   "outputs": [],
   "source": [
    "\n",
    "# (Optional) Colab: show GPU and mount Drive\n",
    "# If using Colab, uncomment the following two lines:\n",
    "# !nvidia-smi\n",
    "# from google.colab import drive; drive.mount('/content/drive')\n"
   ]
  },
  {
   "cell_type": "code",
   "execution_count": null,
   "id": "10db6529",
   "metadata": {},
   "outputs": [],
   "source": [
    "\n",
    "# Install deps (safe to re-run). On Colab, this will install into the runtime.\n",
    "# You can comment out lines if already installed.\n",
    "%pip -q install --upgrade pip\n",
    "%pip -q install numpy pandas pyarrow pillow tqdm scikit-learn mlflow==2.14.3\n"
   ]
  },
  {
   "cell_type": "code",
   "execution_count": null,
   "id": "10cb0d20",
   "metadata": {},
   "outputs": [],
   "source": [
    "\n",
    "import os, sys, uuid, pandas as pd\n",
    "from pathlib import Path\n",
    "\n",
    "# ====== USER CONFIG ======\n",
    "# Point these to your folders (Colab + Drive example shown commented).\n",
    "# If using Colab+Drive, something like:\n",
    "# BASE = Path('/content/drive/MyDrive/tortoise-finder')\n",
    "BASE = Path('/content')  # change as needed\n",
    "DATA_POS_DIR = BASE/'data/positives'   # images with tortoises\n",
    "DATA_NEG_DIR = BASE/'data/negatives'   # images without tortoises\n",
    "OUT_DIR = BASE/'data/manifests'\n",
    "OUT_DIR.mkdir(parents=True, exist_ok=True)\n",
    "\n",
    "print(\"Pos dir:\", DATA_POS_DIR)\n",
    "print(\"Neg dir:\", DATA_NEG_DIR)\n",
    "print(\"Out dir:\", OUT_DIR)\n"
   ]
  },
  {
   "cell_type": "code",
   "execution_count": null,
   "id": "528bb1fe",
   "metadata": {},
   "outputs": [],
   "source": [
    "\n",
    "from pathlib import Path\n",
    "\n",
    "def scan_images(folder: Path):\n",
    "    exts = {'.jpg','.jpeg','.png','.webp','.tif','.tiff'}\n",
    "    files = []\n",
    "    for p in folder.rglob('*'):\n",
    "        if p.suffix.lower() in exts and p.is_file():\n",
    "            files.append(p)\n",
    "    return files\n",
    "\n",
    "pos_files = scan_images(DATA_POS_DIR)\n",
    "neg_files = scan_images(DATA_NEG_DIR)\n",
    "\n",
    "print(f\"Found positives: {len(pos_files)}\")\n",
    "print(f\"Found negatives: {len(neg_files)}\")\n",
    "\n",
    "# Build manifest DataFrame\n",
    "pos_rows = [{'image_id': p.stem, 'path': str(p), 'label': 1} for p in pos_files]\n",
    "neg_rows = [{'image_id': p.stem, 'path': str(p), 'label': 0} for p in neg_files]\n",
    "df = pd.DataFrame(pos_rows + neg_rows)\n",
    "\n",
    "# Shuffle and save\n",
    "df = df.sample(frac=1.0, random_state=42).reset_index(drop=True)\n",
    "df.to_csv(OUT_DIR/'manifest.csv', index=False)\n",
    "df.to_parquet(OUT_DIR/'manifest.parquet', index=False)\n",
    "df.head(), df['label'].value_counts()\n"
   ]
  },
  {
   "cell_type": "code",
   "execution_count": null,
   "id": "380bc746",
   "metadata": {},
   "outputs": [],
   "source": [
    "\n",
    "# Create stratified splits by image ID, preserving label balance\n",
    "from sklearn.model_selection import train_test_split\n",
    "import pandas as pd\n",
    "from pathlib import Path\n",
    "\n",
    "MANIFEST = Path(OUT_DIR/'manifest.parquet')\n",
    "df = pd.read_parquet(MANIFEST)\n",
    "\n",
    "train_df, test_df = train_test_split(df, test_size=0.15, stratify=df['label'], random_state=123)\n",
    "train_df, val_df  = train_test_split(train_df, test_size=0.1765, stratify=train_df['label'], random_state=123) # 0.1765 ~ 15% of total\n",
    "\n",
    "for name, d in [('train',train_df), ('val',val_df), ('test',test_df)]:\n",
    "    d.to_parquet(OUT_DIR/f'manifest_{name}.parquet', index=False)\n",
    "    d.to_csv(OUT_DIR/f'manifest_{name}.csv', index=False)\n",
    "    print(name, d.shape, d['label'].value_counts().to_dict())\n",
    "\n",
    "print(\"Wrote:\", list((OUT_DIR).glob('manifest_*.*')))\n"
   ]
  }
 ],
 "metadata": {},
 "nbformat": 4,
 "nbformat_minor": 5
}
